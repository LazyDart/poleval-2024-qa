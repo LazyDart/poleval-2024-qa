{
 "cells": [
  {
   "cell_type": "code",
   "execution_count": 1,
   "metadata": {},
   "outputs": [],
   "source": [
    "import pandas as pd"
   ]
  },
  {
   "cell_type": "code",
   "execution_count": 2,
   "metadata": {},
   "outputs": [],
   "source": [
    "train = pd.read_json('../data/poquad_train.json', lines=True).set_index('id')\n"
   ]
  },
  {
   "cell_type": "code",
   "execution_count": 3,
   "metadata": {},
   "outputs": [],
   "source": [
    "import sentencepiece as spm"
   ]
  },
  {
   "cell_type": "code",
   "execution_count": 13,
   "metadata": {},
   "outputs": [
    {
     "name": "stderr",
     "output_type": "stream",
     "text": [
      "/home/lazydart/miniconda3/envs/tensorflow/lib/python3.11/site-packages/transformers/models/auto/modeling_auto.py:1581: FutureWarning: The class `AutoModelWithLMHead` is deprecated and will be removed in a future version. Please use `AutoModelForCausalLM` for causal language models, `AutoModelForMaskedLM` for masked language models and `AutoModelForSeq2SeqLM` for encoder-decoder models.\n",
      "  warnings.warn(\n"
     ]
    }
   ],
   "source": [
    "# Load allegro/plt5-large model from Hugging Face\n",
    "from transformers import AutoTokenizer, AutoModelWithLMHead\n",
    "import torch\n",
    "\n",
    "tokenizer = AutoTokenizer.from_pretrained(\"allegro/plt5-large\", use_fast=False)\n",
    "\n",
    "\n",
    "model = AutoModelWithLMHead.from_pretrained(\"allegro/plt5-large\")"
   ]
  },
  {
   "cell_type": "code",
   "execution_count": 27,
   "metadata": {},
   "outputs": [],
   "source": [
    "# Generate answers to questions from train[\"question\"] based on train[\"context\"]\n",
    "def generate_answers(context, question):\n",
    "    encoded_input = tokenizer([\"Pytanie: \" + question + \" Kontekst: \" + context + \" </s>\"],\n",
    "                             return_tensors='pt',\n",
    "                             max_length=512,\n",
    "                             truncation=True)\n",
    "    \n",
    "    output = model.generate(input_ids = encoded_input.input_ids,\n",
    "                            attention_mask = encoded_input.attention_mask)\n",
    "    \n",
    "    output = tokenizer.decode(output[0], skip_special_tokens=True)\n",
    "    # inputs = tokenizer(context, question, return_tensors=\"pt\")\n",
    "    # outputs = model(**inputs, decoder_input_ids=inputs[\"input_ids\"])\n",
    "    \n",
    "    # logits = outputs.logits\n",
    "    \n",
    "    # all_tokens = tokenizer.convert_ids_to_tokens(inputs[\"input_ids\"][0])\n",
    "\n",
    "    # answer_tokens = all_tokens[torch.argmax(logits[0]) : torch.argmax(logits[0]) + 1]\n",
    "    # answer = tokenizer.decode(outputs)\n",
    "    \n",
    "    return output\n",
    "\n",
    "# Generate answers for all questions in train\n",
    "answers = train.iloc[:10].apply(lambda x: generate_answers(x[\"context\"], x[\"question\"]), axis=1)\n",
    "\n"
   ]
  },
  {
   "cell_type": "code",
   "execution_count": 34,
   "metadata": {},
   "outputs": [
    {
     "name": "stdout",
     "output_type": "stream",
     "text": [
      "規. Model PD został szybko zastąpiony przez samoloty Pomilio PE.̋.誰\n",
      "Jaki model zastąpił samoloty Pomilio PD?\n",
      "Samoloty Pomilio PD weszły na wyposażenie jednostek bojowych i zarazem do walki od lipca 1917 roku. Pierwsze otrzymały je w tym miesiącu eskadry (Squadriglia) nr 131 i 132, gdzie zastąpiły Pomilio PC. Do działań wchodziły następnie kolejne nowo formowane eskadry Pomilio: 133 (we wrześniu), 134 (w październiku), 135 (w styczniu 1918 roku), 136 (w maju 1918 roku). Eskadra 139, sformowana z dwóch sekcji początkowo przydzielonych do lotnictwa Marynarki (od sierpnia 1917 roku), weszła do działań w styczniu 1918 roku, a w czerwcu odznaczyła się w bitwie nad Piawą, zrzucając 175 bomb. W bitwie tej brały udział też inne eskadry. Model PD został szybko zastąpiony w jednostkach przez PE i skierowany głównie do szkolenia.\n"
     ]
    }
   ],
   "source": [
    "i = 7\n",
    "print(answers.iloc[i])\n",
    "\n",
    "print(train.iloc[i].question)\n",
    "\n",
    "print(train.iloc[i].context)"
   ]
  }
 ],
 "metadata": {
  "kernelspec": {
   "display_name": "tensorflow",
   "language": "python",
   "name": "python3"
  },
  "language_info": {
   "codemirror_mode": {
    "name": "ipython",
    "version": 3
   },
   "file_extension": ".py",
   "mimetype": "text/x-python",
   "name": "python",
   "nbconvert_exporter": "python",
   "pygments_lexer": "ipython3",
   "version": "3.11.2"
  }
 },
 "nbformat": 4,
 "nbformat_minor": 2
}
