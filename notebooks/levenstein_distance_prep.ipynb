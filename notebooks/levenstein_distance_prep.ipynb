{
 "cells": [
  {
   "cell_type": "markdown",
   "metadata": {},
   "source": [
    "Notebook checking how to compute the Levenshtein distance."
   ]
  },
  {
   "cell_type": "code",
   "execution_count": 1,
   "metadata": {},
   "outputs": [],
   "source": [
    "from Levenshtein import distance, ratio\n",
    "\n",
    "import os\n",
    "\n",
    "os.chdir(\"../scripts\")\n",
    "\n",
    "from data_processing.poquad import *\n",
    "from t5 import load_t5\n"
   ]
  },
  {
   "cell_type": "code",
   "execution_count": 2,
   "metadata": {},
   "outputs": [],
   "source": [
    "train_df, valid_df = load_poquad_manually_downloaded(\"../data/poquad-manually-processed\")"
   ]
  },
  {
   "cell_type": "code",
   "execution_count": 3,
   "metadata": {},
   "outputs": [],
   "source": [
    "train_input = dataset_into_str_input(train_df)"
   ]
  },
  {
   "cell_type": "code",
   "execution_count": 4,
   "metadata": {},
   "outputs": [
    {
     "data": {
      "text/html": [
       "<div>\n",
       "<style scoped>\n",
       "    .dataframe tbody tr th:only-of-type {\n",
       "        vertical-align: middle;\n",
       "    }\n",
       "\n",
       "    .dataframe tbody tr th {\n",
       "        vertical-align: top;\n",
       "    }\n",
       "\n",
       "    .dataframe thead th {\n",
       "        text-align: right;\n",
       "    }\n",
       "</style>\n",
       "<table border=\"1\" class=\"dataframe\">\n",
       "  <thead>\n",
       "    <tr style=\"text-align: right;\">\n",
       "      <th></th>\n",
       "      <th>input_text</th>\n",
       "      <th>target_text</th>\n",
       "    </tr>\n",
       "  </thead>\n",
       "  <tbody>\n",
       "    <tr>\n",
       "      <th>1</th>\n",
       "      <td>kontekst: Konfederacja polsko-czechosłowacka  ...</td>\n",
       "      <td>odpowiedź: wymianą listów Ripka – Stroński</td>\n",
       "    </tr>\n",
       "    <tr>\n",
       "      <th>2</th>\n",
       "      <td>kontekst: Konfederacja polsko-czechosłowacka  ...</td>\n",
       "      <td>odpowiedź: E. Beneša i J. Masaryka z jednej a ...</td>\n",
       "    </tr>\n",
       "    <tr>\n",
       "      <th>3</th>\n",
       "      <td>kontekst: Konfederacja polsko-czechosłowacka  ...</td>\n",
       "      <td>odpowiedź: podpisanie układu konfederacyjnego</td>\n",
       "    </tr>\n",
       "    <tr>\n",
       "      <th>4</th>\n",
       "      <td>kontekst: Konfederacja polsko-czechosłowacka  ...</td>\n",
       "      <td>odpowiedź: E. Beneš</td>\n",
       "    </tr>\n",
       "    <tr>\n",
       "      <th>5</th>\n",
       "      <td>kontekst: Konfederacja polsko-czechosłowacka  ...</td>\n",
       "      <td>odpowiedź: 20 listopada 1942</td>\n",
       "    </tr>\n",
       "    <tr>\n",
       "      <th>...</th>\n",
       "      <td>...</td>\n",
       "      <td>...</td>\n",
       "    </tr>\n",
       "    <tr>\n",
       "      <th>46183</th>\n",
       "      <td>kontekst: RMS Titanic  Na jaw wyszła archaiczn...</td>\n",
       "      <td>odpowiedź: wyporności</td>\n",
       "    </tr>\n",
       "    <tr>\n",
       "      <th>46184</th>\n",
       "      <td>kontekst: RMS Titanic  Na jaw wyszła archaiczn...</td>\n",
       "      <td>odpowiedź: statek pełnomorski o wyporności pow...</td>\n",
       "    </tr>\n",
       "    <tr>\n",
       "      <th>46185</th>\n",
       "      <td>kontekst: RMS Titanic  Na jaw wyszła archaiczn...</td>\n",
       "      <td>odpowiedź: „Titanic” spełniał te wymagania z d...</td>\n",
       "    </tr>\n",
       "    <tr>\n",
       "      <th>46186</th>\n",
       "      <td>kontekst: RMS Titanic  Na jaw wyszła archaiczn...</td>\n",
       "      <td>odpowiedź: rozbieżności między przepisem skons...</td>\n",
       "    </tr>\n",
       "    <tr>\n",
       "      <th>46187</th>\n",
       "      <td>kontekst: RMS Titanic  Na jaw wyszła archaiczn...</td>\n",
       "      <td>odpowiedź: Łodzi ratunkowych na statku było za...</td>\n",
       "    </tr>\n",
       "  </tbody>\n",
       "</table>\n",
       "<p>46187 rows × 2 columns</p>\n",
       "</div>"
      ],
      "text/plain": [
       "                                              input_text  \\\n",
       "1      kontekst: Konfederacja polsko-czechosłowacka  ...   \n",
       "2      kontekst: Konfederacja polsko-czechosłowacka  ...   \n",
       "3      kontekst: Konfederacja polsko-czechosłowacka  ...   \n",
       "4      kontekst: Konfederacja polsko-czechosłowacka  ...   \n",
       "5      kontekst: Konfederacja polsko-czechosłowacka  ...   \n",
       "...                                                  ...   \n",
       "46183  kontekst: RMS Titanic  Na jaw wyszła archaiczn...   \n",
       "46184  kontekst: RMS Titanic  Na jaw wyszła archaiczn...   \n",
       "46185  kontekst: RMS Titanic  Na jaw wyszła archaiczn...   \n",
       "46186  kontekst: RMS Titanic  Na jaw wyszła archaiczn...   \n",
       "46187  kontekst: RMS Titanic  Na jaw wyszła archaiczn...   \n",
       "\n",
       "                                             target_text  \n",
       "1             odpowiedź: wymianą listów Ripka – Stroński  \n",
       "2      odpowiedź: E. Beneša i J. Masaryka z jednej a ...  \n",
       "3          odpowiedź: podpisanie układu konfederacyjnego  \n",
       "4                                    odpowiedź: E. Beneš  \n",
       "5                           odpowiedź: 20 listopada 1942  \n",
       "...                                                  ...  \n",
       "46183                              odpowiedź: wyporności  \n",
       "46184  odpowiedź: statek pełnomorski o wyporności pow...  \n",
       "46185  odpowiedź: „Titanic” spełniał te wymagania z d...  \n",
       "46186  odpowiedź: rozbieżności między przepisem skons...  \n",
       "46187  odpowiedź: Łodzi ratunkowych na statku było za...  \n",
       "\n",
       "[46187 rows x 2 columns]"
      ]
     },
     "execution_count": 4,
     "metadata": {},
     "output_type": "execute_result"
    }
   ],
   "source": [
    "train_input"
   ]
  },
  {
   "cell_type": "code",
   "execution_count": 5,
   "metadata": {},
   "outputs": [],
   "source": [
    "tokenizer, model = load_t5.load_plt5(\"../models/plt5-original-base\")"
   ]
  },
  {
   "cell_type": "code",
   "execution_count": 6,
   "metadata": {},
   "outputs": [],
   "source": [
    "input_tokens = tokenizer(train_input[\"input_text\"].iloc[0], return_tensors=\"pt\").input_ids"
   ]
  },
  {
   "cell_type": "code",
   "execution_count": 7,
   "metadata": {},
   "outputs": [
    {
     "name": "stderr",
     "output_type": "stream",
     "text": [
      "/home/lazydart/miniconda3/envs/mltorch/lib/python3.12/site-packages/transformers/generation/configuration_utils.py:515: UserWarning: `do_sample` is set to `False`. However, `temperature` is set to `0.5` -- this flag is only used in sample-based generation modes. You should set `do_sample=True` or unset `temperature`.\n",
      "  warnings.warn(\n"
     ]
    }
   ],
   "source": [
    "generated_answer = model.generate(input_tokens, max_length=20, num_beams=4, num_return_sequences=4, temperature=0.5, no_repeat_ngram_size=2, early_stopping=True)"
   ]
  },
  {
   "cell_type": "code",
   "execution_count": 8,
   "metadata": {},
   "outputs": [],
   "source": [
    "seq1 = tokenizer.decode(generated_answer[0], skip_special_tokens=True)"
   ]
  },
  {
   "cell_type": "code",
   "execution_count": 9,
   "metadata": {},
   "outputs": [],
   "source": [
    "seq2 = train_input[\"target_text\"].iloc[0]"
   ]
  },
  {
   "cell_type": "code",
   "execution_count": 10,
   "metadata": {},
   "outputs": [
    {
     "data": {
      "text/plain": [
       "(62, 0.5166666666666667, 0.31666666666666665)"
      ]
     },
     "execution_count": 10,
     "metadata": {},
     "output_type": "execute_result"
    }
   ],
   "source": [
    "distance(seq1, seq2), distance(seq1, seq2)/(len(seq1) + len(seq2)), ratio(seq1, seq2)"
   ]
  },
  {
   "cell_type": "code",
   "execution_count": 14,
   "metadata": {},
   "outputs": [
    {
     "data": {
      "text/plain": [
       "(5, 0.9367088607594937)"
      ]
     },
     "execution_count": 14,
     "metadata": {},
     "output_type": "execute_result"
    }
   ],
   "source": [
    "distance(seq2, seq2[:-5]), ratio(seq2, seq2[:-5])"
   ]
  }
 ],
 "metadata": {
  "kernelspec": {
   "display_name": "mltorch",
   "language": "python",
   "name": "python3"
  },
  "language_info": {
   "codemirror_mode": {
    "name": "ipython",
    "version": 3
   },
   "file_extension": ".py",
   "mimetype": "text/x-python",
   "name": "python",
   "nbconvert_exporter": "python",
   "pygments_lexer": "ipython3",
   "version": "3.12.4"
  }
 },
 "nbformat": 4,
 "nbformat_minor": 2
}
