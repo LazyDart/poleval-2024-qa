{
 "cells": [
  {
   "cell_type": "code",
   "execution_count": 1,
   "metadata": {},
   "outputs": [],
   "source": [
    "%load_ext autoreload"
   ]
  },
  {
   "cell_type": "code",
   "execution_count": 7,
   "metadata": {},
   "outputs": [],
   "source": [
    "import pandas as pd\n",
    "\n",
    "import os\n",
    "os.chdir('../scripts')\n",
    "\n",
    "from data_processing.poquad import *\n",
    "\n",
    "from t5.load_t5 import load_plt5"
   ]
  },
  {
   "cell_type": "code",
   "execution_count": 3,
   "metadata": {},
   "outputs": [],
   "source": [
    "train, valid =  load_poquad_datasets(\"../data/poquad-original\")"
   ]
  },
  {
   "cell_type": "code",
   "execution_count": 4,
   "metadata": {},
   "outputs": [],
   "source": [
    "train_df = train.to_pandas()"
   ]
  },
  {
   "cell_type": "code",
   "execution_count": 5,
   "metadata": {},
   "outputs": [],
   "source": [
    "train_df = train_df.set_index(\"id\")"
   ]
  },
  {
   "cell_type": "code",
   "execution_count": 6,
   "metadata": {},
   "outputs": [
    {
     "data": {
      "text/plain": [
       "Dataset({\n",
       "    features: ['id', 'title', 'context', 'question', 'answers'],\n",
       "    num_rows: 5764\n",
       "})"
      ]
     },
     "execution_count": 6,
     "metadata": {},
     "output_type": "execute_result"
    }
   ],
   "source": [
    "valid"
   ]
  },
  {
   "cell_type": "code",
   "execution_count": 7,
   "metadata": {},
   "outputs": [
    {
     "data": {
      "text/plain": [
       "{'text': array(['kompilację poglądów różnych rabinów na określony temat'],\n",
       "       dtype=object),\n",
       " 'answer_start': array([43], dtype=int32)}"
      ]
     },
     "execution_count": 7,
     "metadata": {},
     "output_type": "execute_result"
    }
   ],
   "source": [
    "valid.to_pandas()[\"answers\"].iloc[0]"
   ]
  },
  {
   "cell_type": "code",
   "execution_count": 8,
   "metadata": {},
   "outputs": [
    {
     "name": "stdout",
     "output_type": "stream",
     "text": [
      "Konfederacja polsko-czechosłowacka\n",
      "Projekty konfederacji zaczęły się załamywać 5 sierpnia 1942. Ponownie wróciła kwestia monachijska, co uaktywniło się wymianą listów Ripka – Stroński. Natomiast 17 sierpnia 1942 doszło do spotkania E. Beneša i J. Masaryka z jednej a Wł. Sikorskiego i E. Raczyńskiego z drugiej strony. Polscy dyplomaci zaproponowali podpisanie układu konfederacyjnego. W następnym miesiącu, tj. 24 września, strona polska przesłała na ręce J. Masaryka projekt deklaracji o przyszłej konfederacji obu państw. Strona czechosłowacka projekt przyjęła, lecz już w listopadzie 1942 E. Beneš podważył ideę konfederacji. W zamian zaproponowano zawarcie układu sojuszniczego z Polską na 20 lat (formalnie nastąpiło to 20 listopada 1942).\n",
      "Co było powodem powrócenia konceptu porozumieniu monachijskiego?\n",
      "{'text': array(['wymianą listów Ripka – Stroński'], dtype=object), 'answer_start': array([117], dtype=int32)}\n"
     ]
    }
   ],
   "source": [
    "for val in train_df.iloc[0]:\n",
    "    print(val)"
   ]
  },
  {
   "cell_type": "code",
   "execution_count": 9,
   "metadata": {},
   "outputs": [],
   "source": [
    "def generate_answers(df, model_path, colab=False):\n",
    "    # Load PLT5 model\n",
    "    tokenizer, model = load_plt5(model_path, colab)\n",
    "\n",
    "    # Prepare input text\n",
    "    input_texts = dataset_into_str_input(df).tolist()\n",
    "\n",
    "    # Tokenize input texts\n",
    "    inputs = tokenizer(input_texts, return_tensors=\"pt\", padding=True, truncation=True)\n",
    "\n",
    "    # Generate model output\n",
    "    outputs = model.generate(\n",
    "        input_ids=inputs[\"input_ids\"],\n",
    "        attention_mask=inputs[\"attention_mask\"],\n",
    "        max_length=50,  # Adjust max_length as needed\n",
    "        num_beams=4,    # Adjust num_beams as needed\n",
    "        early_stopping=True\n",
    "    )\n",
    "\n",
    "    # Decode model output\n",
    "    decoded_outputs = tokenizer.batch_decode(outputs, skip_special_tokens=True)\n",
    "\n",
    "    # Add generated answers to dataframe\n",
    "    df[\"generated_answer\"] = decoded_outputs\n",
    "\n",
    "    return df"
   ]
  },
  {
   "cell_type": "code",
   "execution_count": 10,
   "metadata": {},
   "outputs": [
    {
     "name": "stderr",
     "output_type": "stream",
     "text": [
      "Asking to truncate to max_length but no maximum length is provided and the model has no predefined maximum length. Default to no truncation.\n",
      "/tmp/ipykernel_14840/2084891990.py:24: SettingWithCopyWarning: \n",
      "A value is trying to be set on a copy of a slice from a DataFrame.\n",
      "Try using .loc[row_indexer,col_indexer] = value instead\n",
      "\n",
      "See the caveats in the documentation: https://pandas.pydata.org/pandas-docs/stable/user_guide/indexing.html#returning-a-view-versus-a-copy\n",
      "  df[\"generated_answer\"] = decoded_outputs\n"
     ]
    }
   ],
   "source": [
    "result = generate_answers(train_df.iloc[:10], \"../models/plt5-original-base\")"
   ]
  },
  {
   "cell_type": "code",
   "execution_count": 27,
   "metadata": {},
   "outputs": [
    {
     "data": {
      "text/plain": [
       "answers\n",
       "(text, answer_start)    46187\n",
       "Name: count, dtype: int64"
      ]
     },
     "execution_count": 27,
     "metadata": {},
     "output_type": "execute_result"
    }
   ],
   "source": [
    "train_df[\"answers\"].apply(lambda x: x.keys()).value_counts()"
   ]
  },
  {
   "cell_type": "code",
   "execution_count": 28,
   "metadata": {},
   "outputs": [],
   "source": [
    "valid_df = valid.to_pandas()"
   ]
  },
  {
   "cell_type": "code",
   "execution_count": 32,
   "metadata": {},
   "outputs": [
    {
     "data": {
      "text/plain": [
       "'Sformowany przez nią oddział partyzancki liczył 280 strzelców, kilkuset chłopów kosynierów i 60 kawalerzystów. Wraz z oddziałem rozpoczęła marsz w kierunku Dyneburga, po drodze do oddziału dołączali wciąż ochotnicy. 29 marca 1831 wkroczyła do Dusiatów, gdzie pod rozwiniętą flagą Polski zachęcała okoliczną ludność do przyłączenia się do powstania. 30 marca 1831 wraz ze swym hufcem zajęła stację Daugiele. 2 kwietnia jej oddział stoczył zwycięską potyczkę i zniósł kompanię piechoty rosyjskiej pod Ucianami. 4 kwietnia uderzyła na jedną z kolumn korpusu gen. Schirmana, która zmierzała w rejon koncentracji głównych sił rosyjskich w Dyneburgu. Oddział Emilii Plater opanował Jeziorosy, gdzie zdążono wpisać do akt grodzkich akt powstania. Zaskoczenie Dyneburga nie powiodło się powstańcom, młodzi zrewoltowani podchorążowie zostali wysłani do obozu Dybicza. Wobec pogarszającego się położenia militarnego, Emilia zrezygnowała ostatecznie z ataku na Dyneburg. Emilia dzieliła z podkomendnymi wszystkie trudy walki partyzanckiej, zyskała sobie wkrótce ich miłość i uznanie, chociaż w świecie salonów nie szczędzono jej złośliwych uwag i zarzutów niemoralności. W zaciętych walkach, stoczonych z Schirmanem pod Ucianą i Oniksztami oddział Emilii poniósł znaczne straty w zabitych i rannych, uległ rozproszeniu, resztę Emilia Plater przyłączyła do oddziału Cezarego Platera.'"
      ]
     },
     "execution_count": 32,
     "metadata": {},
     "output_type": "execute_result"
    }
   ],
   "source": [
    "valid_df.iloc[4].context"
   ]
  },
  {
   "cell_type": "code",
   "execution_count": 11,
   "metadata": {},
   "outputs": [
    {
     "data": {
      "text/html": [
       "<div>\n",
       "<style scoped>\n",
       "    .dataframe tbody tr th:only-of-type {\n",
       "        vertical-align: middle;\n",
       "    }\n",
       "\n",
       "    .dataframe tbody tr th {\n",
       "        vertical-align: top;\n",
       "    }\n",
       "\n",
       "    .dataframe thead th {\n",
       "        text-align: right;\n",
       "    }\n",
       "</style>\n",
       "<table border=\"1\" class=\"dataframe\">\n",
       "  <thead>\n",
       "    <tr style=\"text-align: right;\">\n",
       "      <th></th>\n",
       "      <th>title</th>\n",
       "      <th>context</th>\n",
       "      <th>question</th>\n",
       "      <th>answers</th>\n",
       "      <th>generated_answer</th>\n",
       "    </tr>\n",
       "    <tr>\n",
       "      <th>id</th>\n",
       "      <th></th>\n",
       "      <th></th>\n",
       "      <th></th>\n",
       "      <th></th>\n",
       "      <th></th>\n",
       "    </tr>\n",
       "  </thead>\n",
       "  <tbody>\n",
       "    <tr>\n",
       "      <th>1</th>\n",
       "      <td>Konfederacja polsko-czechosłowacka</td>\n",
       "      <td>Projekty konfederacji zaczęły się załamywać 5 ...</td>\n",
       "      <td>Co było powodem powrócenia konceptu porozumien...</td>\n",
       "      <td>{'text': ['wymianą listów Ripka – Stroński'], ...</td>\n",
       "      <td>規.̋: Konfederacja polsko-czechosłowacka誰: Konf...</td>\n",
       "    </tr>\n",
       "    <tr>\n",
       "      <th>2</th>\n",
       "      <td>Konfederacja polsko-czechosłowacka</td>\n",
       "      <td>Projekty konfederacji zaczęły się załamywać 5 ...</td>\n",
       "      <td>Pomiędzy jakimi stronami odbyło się zgromadzen...</td>\n",
       "      <td>{'text': ['E. Beneša i J. Masaryka z jednej a ...</td>\n",
       "      <td>規 w sierpniu 1942 roku? odpowiedź: Tak, w sier...</td>\n",
       "    </tr>\n",
       "    <tr>\n",
       "      <th>3</th>\n",
       "      <td>Konfederacja polsko-czechosłowacka</td>\n",
       "      <td>Projekty konfederacji zaczęły się załamywać 5 ...</td>\n",
       "      <td>O co ubiegali się polscy przedstawiciele podcz...</td>\n",
       "      <td>{'text': ['podpisanie układu konfederacyjnego'...</td>\n",
       "      <td>規: Konfederacja polsko-czechosłowacka 1942̋: K...</td>\n",
       "    </tr>\n",
       "    <tr>\n",
       "      <th>4</th>\n",
       "      <td>Konfederacja polsko-czechosłowacka</td>\n",
       "      <td>Projekty konfederacji zaczęły się załamywać 5 ...</td>\n",
       "      <td>Który z dyplomatów sprzeciwił się konceptowi k...</td>\n",
       "      <td>{'text': ['E. Beneš'], 'answer_start': [558]}</td>\n",
       "      <td>規: Konfederacja polsko-czechosłowacka w listop...</td>\n",
       "    </tr>\n",
       "    <tr>\n",
       "      <th>5</th>\n",
       "      <td>Konfederacja polsko-czechosłowacka</td>\n",
       "      <td>Projekty konfederacji zaczęły się załamywać 5 ...</td>\n",
       "      <td>Kiedy oficjalnie doszło do zawarcia porozumienia?</td>\n",
       "      <td>{'text': ['20 listopada 1942'], 'answer_start'...</td>\n",
       "      <td>規: 20 listopada 1942 r.̋: 20 listopada 1942 r....</td>\n",
       "    </tr>\n",
       "    <tr>\n",
       "      <th>6</th>\n",
       "      <td>Pomilio PD/PE</td>\n",
       "      <td>Samoloty Pomilio PD weszły na wyposażenie jedn...</td>\n",
       "      <td>Jaki model zastąpił Pomilio PC?</td>\n",
       "      <td>{'text': ['Pomilio PD'], 'answer_start': [9]}</td>\n",
       "      <td>規: Pomilio PD/PE̋: Pomilio PC</td>\n",
       "    </tr>\n",
       "    <tr>\n",
       "      <th>7</th>\n",
       "      <td>Pomilio PD/PE</td>\n",
       "      <td>Samoloty Pomilio PD weszły na wyposażenie jedn...</td>\n",
       "      <td>Co wchodziło w skład eskadry 139?</td>\n",
       "      <td>{'text': ['dwóch sekcji początkowo przydzielon...</td>\n",
       "      <td>規.̋: Pomilio PD/PE誰: Pomilio PD/PE.</td>\n",
       "    </tr>\n",
       "    <tr>\n",
       "      <th>8</th>\n",
       "      <td>Pomilio PD/PE</td>\n",
       "      <td>Samoloty Pomilio PD weszły na wyposażenie jedn...</td>\n",
       "      <td>Jaki model zastąpił samoloty Pomilio PD?</td>\n",
       "      <td>{'text': ['PE'], 'answer_start': [683]}</td>\n",
       "      <td>規: Pomilio PD/PE?</td>\n",
       "    </tr>\n",
       "    <tr>\n",
       "      <th>9</th>\n",
       "      <td>Pomilio PD/PE</td>\n",
       "      <td>Na początku 1918 roku planowano, że Pomilio PD...</td>\n",
       "      <td>Czym według założeń z 1918 roku miały zajmować...</td>\n",
       "      <td>{'text': ['wyposażeniem tylko armijnych eskadr...</td>\n",
       "      <td>規: Pomilio PD/PE̋: Pomilio PD/PE</td>\n",
       "    </tr>\n",
       "    <tr>\n",
       "      <th>10</th>\n",
       "      <td>Pomilio PD/PE</td>\n",
       "      <td>Na początku 1918 roku planowano, że Pomilio PD...</td>\n",
       "      <td>Jaki samolot miał służyć za podstawę rozpoznan...</td>\n",
       "      <td>{'text': ['Ansaldo SIA 7'], 'answer_start': [1...</td>\n",
       "      <td>規: Pomilio PD/PE̋: Pomilio PD/PE</td>\n",
       "    </tr>\n",
       "  </tbody>\n",
       "</table>\n",
       "</div>"
      ],
      "text/plain": [
       "                                 title  \\\n",
       "id                                       \n",
       "1   Konfederacja polsko-czechosłowacka   \n",
       "2   Konfederacja polsko-czechosłowacka   \n",
       "3   Konfederacja polsko-czechosłowacka   \n",
       "4   Konfederacja polsko-czechosłowacka   \n",
       "5   Konfederacja polsko-czechosłowacka   \n",
       "6                        Pomilio PD/PE   \n",
       "7                        Pomilio PD/PE   \n",
       "8                        Pomilio PD/PE   \n",
       "9                        Pomilio PD/PE   \n",
       "10                       Pomilio PD/PE   \n",
       "\n",
       "                                              context  \\\n",
       "id                                                      \n",
       "1   Projekty konfederacji zaczęły się załamywać 5 ...   \n",
       "2   Projekty konfederacji zaczęły się załamywać 5 ...   \n",
       "3   Projekty konfederacji zaczęły się załamywać 5 ...   \n",
       "4   Projekty konfederacji zaczęły się załamywać 5 ...   \n",
       "5   Projekty konfederacji zaczęły się załamywać 5 ...   \n",
       "6   Samoloty Pomilio PD weszły na wyposażenie jedn...   \n",
       "7   Samoloty Pomilio PD weszły na wyposażenie jedn...   \n",
       "8   Samoloty Pomilio PD weszły na wyposażenie jedn...   \n",
       "9   Na początku 1918 roku planowano, że Pomilio PD...   \n",
       "10  Na początku 1918 roku planowano, że Pomilio PD...   \n",
       "\n",
       "                                             question  \\\n",
       "id                                                      \n",
       "1   Co było powodem powrócenia konceptu porozumien...   \n",
       "2   Pomiędzy jakimi stronami odbyło się zgromadzen...   \n",
       "3   O co ubiegali się polscy przedstawiciele podcz...   \n",
       "4   Który z dyplomatów sprzeciwił się konceptowi k...   \n",
       "5   Kiedy oficjalnie doszło do zawarcia porozumienia?   \n",
       "6                     Jaki model zastąpił Pomilio PC?   \n",
       "7                   Co wchodziło w skład eskadry 139?   \n",
       "8            Jaki model zastąpił samoloty Pomilio PD?   \n",
       "9   Czym według założeń z 1918 roku miały zajmować...   \n",
       "10  Jaki samolot miał służyć za podstawę rozpoznan...   \n",
       "\n",
       "                                              answers  \\\n",
       "id                                                      \n",
       "1   {'text': ['wymianą listów Ripka – Stroński'], ...   \n",
       "2   {'text': ['E. Beneša i J. Masaryka z jednej a ...   \n",
       "3   {'text': ['podpisanie układu konfederacyjnego'...   \n",
       "4       {'text': ['E. Beneš'], 'answer_start': [558]}   \n",
       "5   {'text': ['20 listopada 1942'], 'answer_start'...   \n",
       "6       {'text': ['Pomilio PD'], 'answer_start': [9]}   \n",
       "7   {'text': ['dwóch sekcji początkowo przydzielon...   \n",
       "8             {'text': ['PE'], 'answer_start': [683]}   \n",
       "9   {'text': ['wyposażeniem tylko armijnych eskadr...   \n",
       "10  {'text': ['Ansaldo SIA 7'], 'answer_start': [1...   \n",
       "\n",
       "                                     generated_answer  \n",
       "id                                                     \n",
       "1   規.̋: Konfederacja polsko-czechosłowacka誰: Konf...  \n",
       "2   規 w sierpniu 1942 roku? odpowiedź: Tak, w sier...  \n",
       "3   規: Konfederacja polsko-czechosłowacka 1942̋: K...  \n",
       "4   規: Konfederacja polsko-czechosłowacka w listop...  \n",
       "5   規: 20 listopada 1942 r.̋: 20 listopada 1942 r....  \n",
       "6                       規: Pomilio PD/PE̋: Pomilio PC  \n",
       "7                 規.̋: Pomilio PD/PE誰: Pomilio PD/PE.  \n",
       "8                                   規: Pomilio PD/PE?  \n",
       "9                    規: Pomilio PD/PE̋: Pomilio PD/PE  \n",
       "10                   規: Pomilio PD/PE̋: Pomilio PD/PE  "
      ]
     },
     "execution_count": 11,
     "metadata": {},
     "output_type": "execute_result"
    }
   ],
   "source": [
    "result"
   ]
  },
  {
   "cell_type": "code",
   "execution_count": 36,
   "metadata": {},
   "outputs": [],
   "source": [
    "import json"
   ]
  },
  {
   "cell_type": "code",
   "execution_count": 35,
   "metadata": {},
   "outputs": [
    {
     "data": {
      "text/plain": [
       "{'id': 9773,\n",
       " 'title': 'Miszna',\n",
       " 'summary': 'Miszna (hebr.\\xa0\\u200fמשנה\\u200e miszna „nauczać”, „ustnie przekazywać”, „studiować”, „badać”, od \\u200fשנה\\u200e szana „powtarzać”, „różnić się”, „być odmiennym”; jid. Miszne) – w judaizmie uporządkowany zbiór tekstów ustnego prawa uzupełniający Torę (Prawo pisane). Według wierzeń judaizmu stanowi ustną, niespisaną część prawa nadanego przez Boga na Synaju, tzw. Torę ustną. Jest świętym tekstem judaizmu i jest traktowana na równi z Tanach (Biblią hebrajską). Zbiór był w Izraelu od wieków przekazywany ustnie z pokolenia na pokolenie, zwiększył swój rozmiar szczególnie w okresie od III w. p.n.e. do II w. n.e. w wyniku systematycznego uzupełniania komentarzy przez tannaitów, żydowskich nauczycieli prawa ustnego. Miszna została spisana dopiero w II–III w. Prace redakcyjne zapoczątkował rabin Akiba ben Josef, a kształt ostatecznej redakcji tekstu nadał Juda ha-Nasi. Miszna składa się z 6 porządków (hebr.: sedarim), które dzielą się na 63 traktaty, te zaś na rozdziały i lekcje. Miszna jest częścią Talmudu i zawiera podstawowe reguły postępowania i normy prawne judaizmu.',\n",
       " 'url': 'https://pl.wikipedia.org/wiki/Miszna',\n",
       " 'paragraphs': [{'context': 'Pisma rabiniczne – w tym Miszna – stanowią kompilację poglądów różnych rabinów na określony temat. Zgodnie z wierzeniami judaizmu Mojżesz otrzymał od Boga całą Torę, ale w dwóch częściach: jedną część w formie pisanej, a drugą część w formie ustnej. Miszna – jako Tora ustna – była traktowana nie tylko jako uzupełnienie Tory spisanej, ale również jako jej interpretacja i wyjaśnienie w konkretnych sytuacjach życiowych. Tym samym Miszna stanowiąca kodeks Prawa religijnego zaczęła równocześnie służyć za jego ustnie przekazywany podręcznik.',\n",
       "   'qas': [{'question': 'Czym są pisma rabiniczne?',\n",
       "     'answers': [{'text': 'kompilację poglądów różnych rabinów na określony temat',\n",
       "       'answer_start': 43,\n",
       "       'answer_end': 97,\n",
       "       'generative_answer': 'kompilacją poglądów różnych rabinów na określony temat'}],\n",
       "     'is_impossible': False},\n",
       "    {'question': 'Z ilu komponentów składała się Tora przekazana Mojżeszowi?',\n",
       "     'answers': [{'text': 'dwóch',\n",
       "       'answer_start': 172,\n",
       "       'answer_end': 177,\n",
       "       'generative_answer': 'dwóch'}],\n",
       "     'is_impossible': False},\n",
       "    {'question': 'W jakich formach występowała Tora przekazana Mojżeszowi?',\n",
       "     'answers': [{'text': 'pisanej, a drugą część w formie ustnej',\n",
       "       'answer_start': 210,\n",
       "       'answer_end': 248,\n",
       "       'generative_answer': 'pisanej, ustnej'}],\n",
       "     'is_impossible': False},\n",
       "    {'question': 'W jakiej formie przekazana została Miszna?',\n",
       "     'answers': [{'text': 'ustna',\n",
       "       'answer_start': 269,\n",
       "       'answer_end': 274,\n",
       "       'generative_answer': 'ustnej'}],\n",
       "     'is_impossible': False},\n",
       "    {'question': 'Kto napisał Torę?',\n",
       "     'plausible_answers': [{'text': 'Boga',\n",
       "       'answer_start': 150,\n",
       "       'answer_end': 154,\n",
       "       'generative_answer': 'Bóg'}],\n",
       "     'is_impossible': True}]}]}"
      ]
     },
     "execution_count": 35,
     "metadata": {},
     "output_type": "execute_result"
    }
   ],
   "source": [
    "pd.read_json(\"../data/poquad-downloaded-manually/poquad-dev.json\").iloc[0].data"
   ]
  },
  {
   "cell_type": "markdown",
   "metadata": {},
   "source": [
    "Script Loading Poquad data on huggingface is broken. So manually downloading data and processing it differently is required."
   ]
  }
 ],
 "metadata": {
  "kernelspec": {
   "display_name": "mltorch",
   "language": "python",
   "name": "python3"
  },
  "language_info": {
   "codemirror_mode": {
    "name": "ipython",
    "version": 3
   },
   "file_extension": ".py",
   "mimetype": "text/x-python",
   "name": "python",
   "nbconvert_exporter": "python",
   "pygments_lexer": "ipython3",
   "version": "3.12.4"
  }
 },
 "nbformat": 4,
 "nbformat_minor": 2
}
