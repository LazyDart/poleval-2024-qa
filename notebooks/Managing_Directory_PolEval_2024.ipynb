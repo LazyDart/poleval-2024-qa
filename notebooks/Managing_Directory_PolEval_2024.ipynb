{
  "cells": [
    {
      "cell_type": "code",
      "execution_count": 22,
      "metadata": {
        "id": "4dYVpOjDAnZ_"
      },
      "outputs": [],
      "source": [
        "!git config --global user.email estp.pl@gmail.com\n",
        "!git config --global user.name LazyDart"
      ]
    },
    {
      "cell_type": "code",
      "execution_count": 19,
      "metadata": {
        "colab": {
          "base_uri": "https://localhost:8080/"
        },
        "id": "iHAHyBjCA23I",
        "outputId": "c82f7276-79bf-42ed-ca3b-a2708f132a4d"
      },
      "outputs": [
        {
          "name": "stdout",
          "output_type": "stream",
          "text": [
            "Cloning into 'poleval-2024-qa'...\n",
            "remote: Enumerating objects: 21, done.\u001b[K\n",
            "remote: Counting objects: 100% (21/21), done.\u001b[K\n",
            "remote: Compressing objects: 100% (12/12), done.\u001b[K\n",
            "remote: Total 21 (delta 2), reused 20 (delta 1), pack-reused 0\u001b[K\n",
            "Receiving objects: 100% (21/21), 39.00 KiB | 868.00 KiB/s, done.\n",
            "Resolving deltas: 100% (2/2), done.\n"
          ]
        }
      ],
      "source": [
        "!git clone https://{token}@github.com/LazyDart/poleval-2024-qa.git"
      ]
    },
    {
      "cell_type": "code",
      "execution_count": 18,
      "metadata": {
        "id": "ILaJPuwfBhjD"
      },
      "outputs": [],
      "source": [
        "!rm -r poleval-2024-qa/"
      ]
    },
    {
      "cell_type": "code",
      "execution_count": 20,
      "metadata": {
        "colab": {
          "base_uri": "https://localhost:8080/"
        },
        "id": "01hEPhpv9ojy",
        "outputId": "c4d8308d-51d6-42fe-b88b-926ba60aabed"
      },
      "outputs": [
        {
          "name": "stdout",
          "output_type": "stream",
          "text": [
            "On branch main\n",
            "Your branch is up to date with 'origin/main'.\n",
            "\n",
            "nothing to commit, working tree clean\n"
          ]
        }
      ],
      "source": [
        "%%bash\n",
        "cd poleval-2024-qa/\n",
        "git status\n",
        "mkdir data notebooks scripts outputs models\n",
        "echo \"# PolEval 2024 Q&A Task Attempt\" >> Readme.md\n",
        "echo >> .gitignore"
      ]
    },
    {
      "cell_type": "code",
      "execution_count": 24,
      "metadata": {
        "colab": {
          "base_uri": "https://localhost:8080/"
        },
        "id": "7yvo0TJ6-H3i",
        "outputId": "0f0328ee-d1a6-44ae-9098-0c25172f3637"
      },
      "outputs": [
        {
          "name": "stdout",
          "output_type": "stream",
          "text": [
            "[main c7e96a1] Added Folder structure\n",
            " 5 files changed, 0 insertions(+), 0 deletions(-)\n",
            " create mode 100644 data/.gitkeep\n",
            " create mode 100644 models/.gitkeep\n",
            " create mode 100644 notebooks/.gitkeep\n",
            " create mode 100644 outputs/.gitkeep\n",
            " create mode 100644 scripts/.gitkeep\n"
          ]
        },
        {
          "name": "stderr",
          "output_type": "stream",
          "text": [
            "To https://github.com/LazyDart/poleval-2024-qa.git\n",
            "   faac7eb..c7e96a1  main -> main\n"
          ]
        }
      ],
      "source": [
        "%%bash\n",
        "cd poleval-2024-qa/\n",
        "git add --a\n",
        "git commit -m \"Added Folder structure\"\n",
        "git push"
      ]
    },
    {
      "cell_type": "code",
      "execution_count": 23,
      "metadata": {
        "id": "3w4zoXKICnUw"
      },
      "outputs": [],
      "source": [
        "%%bash\n",
        "cd poleval-2024-qa/\n",
        "touch data/.gitkeep\n",
        "touch models/.gitkeep\n",
        "touch notebooks/.gitkeep\n",
        "touch outputs/.gitkeep\n",
        "touch scripts/.gitkeep"
      ]
    }
  ],
  "metadata": {
    "colab": {
      "provenance": []
    },
    "kernelspec": {
      "display_name": "Python 3",
      "name": "python3"
    },
    "language_info": {
      "name": "python"
    }
  },
  "nbformat": 4,
  "nbformat_minor": 0
}
